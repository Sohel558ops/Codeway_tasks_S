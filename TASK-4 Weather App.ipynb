{
 "cells": [
  {
   "cell_type": "code",
   "execution_count": 1,
   "id": "c748ab2e",
   "metadata": {},
   "outputs": [
    {
     "name": "stdout",
     "output_type": "stream",
     "text": [
      "Enter the name of a city: Pune\n",
      "Current Weather Information: \n",
      "Temperature:306.02\n",
      "Humidity:15\n",
      "Wind Speed:0.68\n",
      "description:clear sky\n"
     ]
    }
   ],
   "source": [
    "import requests\n",
    "\n",
    "def get_weather(city):\n",
    "    api_key='a22e782b2b73f9e7db6060a1875c0120'\n",
    "    url=f'http://api.openweathermap.org/data/2.5/weather?q={city}&appid={api_key}'\n",
    "    \n",
    "    response = requests.get(url)\n",
    "    data = response.json()\n",
    "    \n",
    "    if data['cod']==200:\n",
    "        weather_info ={\n",
    "            'Temperature': data['main']['temp'],\n",
    "            'Humidity':data['main']['humidity'],\n",
    "            'Wind Speed':data['wind']['speed'],\n",
    "            \"description\":data['weather'][0]['description']\n",
    "        }\n",
    "        return weather_info\n",
    "    else:\n",
    "        return None\n",
    "    \n",
    "def main():\n",
    "    city=input(\"Enter the name of a city: \")\n",
    "    weather = get_weather(city)\n",
    "    if weather:\n",
    "        print(\"Current Weather Information: \")\n",
    "        for key,value in weather.items():\n",
    "            print(f\"{key}:{value}\")\n",
    "    else:\n",
    "        print(\"Weather information not avaialable for the provided city.\")\n",
    "        \n",
    "if __name__==\"__main__\":\n",
    "    main()"
   ]
  },
  {
   "cell_type": "code",
   "execution_count": null,
   "id": "6def82d9",
   "metadata": {},
   "outputs": [],
   "source": []
  }
 ],
 "metadata": {
  "kernelspec": {
   "display_name": "Python 3 (ipykernel)",
   "language": "python",
   "name": "python3"
  },
  "language_info": {
   "codemirror_mode": {
    "name": "ipython",
    "version": 3
   },
   "file_extension": ".py",
   "mimetype": "text/x-python",
   "name": "python",
   "nbconvert_exporter": "python",
   "pygments_lexer": "ipython3",
   "version": "3.11.5"
  }
 },
 "nbformat": 4,
 "nbformat_minor": 5
}
