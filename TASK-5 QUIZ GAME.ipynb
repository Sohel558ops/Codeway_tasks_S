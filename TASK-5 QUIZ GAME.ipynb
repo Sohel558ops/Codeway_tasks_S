{
 "cells": [
  {
   "cell_type": "code",
   "execution_count": null,
   "id": "e91538aa",
   "metadata": {},
   "outputs": [],
   "source": [
    "\"\"\"Develop a quiz game that asks users multiple-choice or fill-in-the-blank questions on a\n",
    "specific topic. The game should keep track of scores, provide feedback on\n",
    "correct/incorrect answers, and offer a variety of questions to make it challenging and\n",
    "engaging.\n",
    "Load Quiz Questions. Calculate the Final Score. Display Final Results: Display Welcome Message and Rules.\n",
    "Present Quiz Questions: Display each question and answer choice. Prompt the user to\n",
    "select an answer.\n",
    "Evaluate the User's Answer: Compare the user's answer with the correct answer. Keep\n",
    "track of the user's score.\n",
    "Provide Feedback: Display if the answer was correct or incorrect. Show the correct\n",
    "answer for incorrect responses.\n",
    "Play Again: Ask the user if they want to play again. \"\"\""
   ]
  },
  {
   "cell_type": "code",
   "execution_count": 1,
   "id": "3d767c1d",
   "metadata": {},
   "outputs": [
    {
     "name": "stdout",
     "output_type": "stream",
     "text": [
      "Welcome to the quiz game!\n",
      "The rules for this game are very simple. You will asked a couple of questions related to general knowledge.\n",
      "you will be provided with multiple options out of which you need to choose one correct answer.\n",
      "Who is the Prime Minister of India?\n",
      "Here are your options\n",
      "['Narendra modi', 'L.K Advani', 'Arvind Kejriwal', 'Yogi Adityanath']\n",
      "Type your answer: narendra modi\n",
      "Correct\n",
      "What is the number of states in india?\n",
      "Here are your options\n",
      "['28', '29', '30', '27']\n",
      "Type your answer: 29\n",
      "Incorrect\n",
      "The right answer is:  28\n",
      "How many years is president's term in India?\n",
      "Here are your options\n",
      "['4', '5', '6', '3']\n",
      "Type your answer: 5\n",
      "Correct\n",
      "your final score is: 2\n",
      "Play again?\n",
      "no\n"
     ]
    }
   ],
   "source": [
    "print(\"Welcome to the quiz game!\")\n",
    "print(\"The rules for this game are very simple. You will asked a couple of questions related to general knowledge.\")\n",
    "print(\"you will be provided with multiple options out of which you need to choose one correct answer.\")\n",
    "\n",
    "questions=[\"Who is the Prime Minister of India?\",\"What is the number of states in india?\",\n",
    "           \"How many years is president's term in India?\"]\n",
    "options=[[\"Narendra modi\",\"L.K Advani\",\"Arvind Kejriwal\",\"Yogi Adityanath\"]\n",
    "           ,[\"28\",\"29\",\"30\",\"27\"],\n",
    "           [\"4\",\"5\",\"6\",\"3\"]]\n",
    "ans=[\"Narendra modi\",\"28\",\"5\"]\n",
    "\n",
    "def game():\n",
    "    c=0\n",
    "    for i in range(len(questions)):\n",
    "        print(questions[i])\n",
    "        print(\"Here are your options\")\n",
    "        print(options[i])\n",
    "        s=input(\"Type your answer: \")\n",
    "        if s.casefold()==ans[i].casefold():\n",
    "            print(\"Correct\")\n",
    "            c+=1\n",
    "        else:\n",
    "            print(\"Incorrect\")\n",
    "            print(\"The right answer is: \",ans[i])\n",
    "\n",
    "    print(f\"your final score is: {c}\")\n",
    "game()\n",
    "    \n",
    "while True:\n",
    "    print(\"Play again?\")\n",
    "    p=input()\n",
    "    if p.casefold()=='yes':\n",
    "        game()\n",
    "    elif p.casefold()=='no':\n",
    "        break\n",
    "    else:\n",
    "        print(\"please choose valid option\")\n",
    "    "
   ]
  },
  {
   "cell_type": "code",
   "execution_count": null,
   "id": "36196015",
   "metadata": {},
   "outputs": [],
   "source": []
  }
 ],
 "metadata": {
  "kernelspec": {
   "display_name": "Python 3 (ipykernel)",
   "language": "python",
   "name": "python3"
  },
  "language_info": {
   "codemirror_mode": {
    "name": "ipython",
    "version": 3
   },
   "file_extension": ".py",
   "mimetype": "text/x-python",
   "name": "python",
   "nbconvert_exporter": "python",
   "pygments_lexer": "ipython3",
   "version": "3.11.5"
  }
 },
 "nbformat": 4,
 "nbformat_minor": 5
}
