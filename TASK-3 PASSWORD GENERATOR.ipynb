{
 "cells": [
  {
   "cell_type": "code",
   "execution_count": null,
   "id": "0a80ec0b",
   "metadata": {},
   "outputs": [],
   "source": [
    "\"\"\" A password generator is a useful tool that generates strong and random passwords for\n",
    "users. This project aims to create a password generator application using Python,\n",
    "allowing users to specify the length and complexity of the password.\n",
    "User Input: Prompt the user to specify the desired length of the password.\n",
    "Generate Password: Use a combination of random characters to generate a password of\n",
    "the specified length.\n",
    "Display the Password: Print the generated password on the screen. \"\"\""
   ]
  },
  {
   "cell_type": "code",
   "execution_count": 1,
   "id": "369262fe",
   "metadata": {},
   "outputs": [
    {
     "name": "stdout",
     "output_type": "stream",
     "text": [
      "create a secure password: \n",
      "how many letters you would like in your password?: \n",
      "6\n",
      "How many numbers would you like in your password?; \n",
      "2\n",
      "How many symbols would you like in your password?; \n",
      "2\n",
      "Random password generated for use: K0Fdq*k&z8\n"
     ]
    }
   ],
   "source": [
    "import random\n",
    "\n",
    "letters=['a','b','c','d','e','f','g','h','i','j','k','l','m','n','o','p',\n",
    "         'q','r','s','t','u','v','w','x','y','z','A','B','C','D','E','F','G',\n",
    "         'H','I','J','K','L','M','N','O','P','Q','R','S','T','U','V']\n",
    "numbers=['0','1','2','3','4','5','6','7','8','9']\n",
    "symbols=['!','@','#','$','%','^','&','*','?','_']\n",
    "\n",
    "print(\"create a secure password: \")\n",
    "\n",
    "let_n=int(input(\"how many letters you would like in your password?: \\n\"))\n",
    "num_n=int(input(\"How many numbers would you like in your password?; \\n\"))\n",
    "sym_n=int(input(\"How many symbols would you like in your password?; \\n\"))\n",
    "\n",
    "password_list=[]\n",
    "\n",
    "for i in range(1,let_n+1):\n",
    "    password_list.append(random.choice(letters))\n",
    "for i in range(1,num_n+1):\n",
    "    password_list.append(random.choice(numbers))\n",
    "for i in range(1,sym_n+1):\n",
    "    password_list.append(random.choice(symbols))\n",
    "    \n",
    "random.shuffle(password_list)\n",
    "\n",
    "\n",
    "password=''.join(password_list)\n",
    "print(f\"Random password generated for use: {password}\") "
   ]
  },
  {
   "cell_type": "code",
   "execution_count": null,
   "id": "359a13c4",
   "metadata": {},
   "outputs": [],
   "source": []
  }
 ],
 "metadata": {
  "kernelspec": {
   "display_name": "Python 3 (ipykernel)",
   "language": "python",
   "name": "python3"
  },
  "language_info": {
   "codemirror_mode": {
    "name": "ipython",
    "version": 3
   },
   "file_extension": ".py",
   "mimetype": "text/x-python",
   "name": "python",
   "nbconvert_exporter": "python",
   "pygments_lexer": "ipython3",
   "version": "3.11.5"
  }
 },
 "nbformat": 4,
 "nbformat_minor": 5
}
