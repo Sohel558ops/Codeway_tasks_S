{
 "cells": [
  {
   "cell_type": "code",
   "execution_count": null,
   "id": "60970837",
   "metadata": {},
   "outputs": [],
   "source": [
    "\"\"\"Design a simple calculator with basic arithmetic operations. Prompt the\n",
    "user to input two numbers and an operation choice. Perform the\n",
    "calculation and display the result.  \"\"\""
   ]
  },
  {
   "cell_type": "code",
   "execution_count": 1,
   "id": "6a142533",
   "metadata": {},
   "outputs": [
    {
     "name": "stdout",
     "output_type": "stream",
     "text": [
      "enter number1: 5\n",
      "enter number2: 3\n",
      "if you want to use add operation pls enter 1\n",
      "if you want to use subtraction operation pls enter 2\n",
      "if you want to use multiplication operation pls enter 3\n",
      "if you want to use division operation pls enter 4\n",
      "enter your option: 4\n",
      "the division of the two numbers is:  1.67\n"
     ]
    }
   ],
   "source": [
    "# calculator program\n",
    "#create 4 functions with arguments\n",
    "# fun1: add\n",
    "# fun2: subtract\n",
    "# fun3: multiplication\n",
    "#fun4: division\n",
    "# print\n",
    "n1 =eval(input(\"enter number1: \"))\n",
    "n2= eval(input(\"enter number2: \"))\n",
    "def add(n1,n2):\n",
    "    print(\"addition of the two numbers is: \",n1+n2)\n",
    "def subtract(n1,n2):\n",
    "    print(\"the difference of the two numbers is: \",abs(n1-n2))\n",
    "def multiplication(n1,n2):\n",
    "    print(\"the multiplication of the two numbers is: \",n1*n2)\n",
    "def division(n1,n2):\n",
    "    print(\"the division of the two numbers is: \",round((n1/n2),2))\n",
    "    \n",
    "print(\"if you want to use add operation pls enter 1\")\n",
    "print(\"if you want to use subtraction operation pls enter 2\")\n",
    "print(\"if you want to use multiplication operation pls enter 3\")\n",
    "print(\"if you want to use division operation pls enter 4\")\n",
    "option = eval(input(\"enter your option: \"))\n",
    "if option ==1:\n",
    "    add(n1,n2)\n",
    "elif option==2:\n",
    "    subtract(n1,n2)\n",
    "elif option==3:\n",
    "    multiplication(n1,n2)\n",
    "elif option ==4:\n",
    "    division(n1,n2)\n",
    "else:\n",
    "    print(\"enter valid option\")"
   ]
  },
  {
   "cell_type": "code",
   "execution_count": null,
   "id": "870b732c",
   "metadata": {},
   "outputs": [],
   "source": []
  }
 ],
 "metadata": {
  "kernelspec": {
   "display_name": "Python 3 (ipykernel)",
   "language": "python",
   "name": "python3"
  },
  "language_info": {
   "codemirror_mode": {
    "name": "ipython",
    "version": 3
   },
   "file_extension": ".py",
   "mimetype": "text/x-python",
   "name": "python",
   "nbconvert_exporter": "python",
   "pygments_lexer": "ipython3",
   "version": "3.11.5"
  }
 },
 "nbformat": 4,
 "nbformat_minor": 5
}
